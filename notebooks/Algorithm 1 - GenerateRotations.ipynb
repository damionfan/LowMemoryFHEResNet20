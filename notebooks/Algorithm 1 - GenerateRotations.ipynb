{
 "cells": [
  {
   "cell_type": "markdown",
   "id": "15b91e86",
   "metadata": {},
   "source": [
    "## Algorithm 1\n",
    "\n",
    "This notebook implements the Algorithm 1 described in the paper, called GenerateRotations"
   ]
  },
  {
   "cell_type": "code",
   "execution_count": 185,
   "id": "535dd21e",
   "metadata": {},
   "outputs": [],
   "source": [
    "import math\n",
    "k = 3\n",
    "\n",
    "if k % 2 == 0:\n",
    "    print(\"k must be odd-sized\")"
   ]
  },
  {
   "cell_type": "markdown",
   "id": "63813a45",
   "metadata": {},
   "source": [
    "We create an empty dictionary"
   ]
  },
  {
   "cell_type": "code",
   "execution_count": 186,
   "id": "0032e4eb",
   "metadata": {},
   "outputs": [],
   "source": [
    "c = {}\n",
    "for i in range(k**2):\n",
    "    c[i] = 0"
   ]
  },
  {
   "cell_type": "markdown",
   "id": "a4846c8e",
   "metadata": {},
   "source": [
    "We set the name for the first $\\textbf{c}$, which contains the central element"
   ]
  },
  {
   "cell_type": "code",
   "execution_count": 187,
   "id": "820b233e",
   "metadata": {},
   "outputs": [],
   "source": [
    "mid = math.floor((k**2) / 2)\n",
    "c[mid] = \"c\""
   ]
  },
  {
   "cell_type": "markdown",
   "id": "34648867",
   "metadata": {},
   "source": [
    "Next, we define the rotations of the central column"
   ]
  },
  {
   "cell_type": "code",
   "execution_count": 188,
   "id": "c3f3dc0a",
   "metadata": {},
   "outputs": [],
   "source": [
    "for i in range(1, math.ceil(k/2)):\n",
    "    c[mid + (i*k)] = \"Rot(c[{}], +w)\".format(mid + ((i-1)*k)) #c[mid + ((i-1)*k)]\n",
    "    c[mid - (i*k)] = \"Rot(c[{}], -w)\".format(mid - ((i-1)*k)) #c[mid - ((i-1)*k)] + \" - w\""
   ]
  },
  {
   "cell_type": "markdown",
   "id": "9a31355e",
   "metadata": {},
   "source": [
    "Then, all the others"
   ]
  },
  {
   "cell_type": "code",
   "execution_count": 189,
   "id": "f5111fc3",
   "metadata": {},
   "outputs": [],
   "source": [
    "for i in range(k):\n",
    "    row = k * i\n",
    "    for j in range(math.floor(k/2)):\n",
    "        col = j + 1 + math.floor(k/2)\n",
    "        c[row+col] = \"Rot(c[{}], +1)\".format(row+col-1)\n",
    "        col = -j - 1 + math.floor(k/2)\n",
    "        c[row+col] = \"Rot(c[{}], -1)\".format(row+col+1)"
   ]
  },
  {
   "cell_type": "markdown",
   "id": "97a49933",
   "metadata": {},
   "source": [
    "Each ciphertext is constructed in relation to others as follows:"
   ]
  },
  {
   "cell_type": "code",
   "execution_count": 190,
   "id": "b0338495",
   "metadata": {},
   "outputs": [
    {
     "name": "stdout",
     "output_type": "stream",
     "text": [
      "c[0] : Rot(c[1], -1)\n",
      "c[1] : Rot(c[4], -w)\n",
      "c[2] : Rot(c[1], +1)\n",
      "c[3] : Rot(c[4], -1)\n",
      "c[4] : c\n",
      "c[5] : Rot(c[4], +1)\n",
      "c[6] : Rot(c[7], -1)\n",
      "c[7] : Rot(c[4], +w)\n",
      "c[8] : Rot(c[7], +1)\n"
     ]
    }
   ],
   "source": [
    "for i in range(len(c.keys())):\n",
    "    print(\"c[{}] : {}\".format(i, c[i]))"
   ]
  },
  {
   "cell_type": "markdown",
   "id": "d84a27c1",
   "metadata": {},
   "source": [
    "We created all the rotations using only four rotation keys"
   ]
  },
  {
   "cell_type": "code",
   "execution_count": null,
   "id": "89f27e47",
   "metadata": {},
   "outputs": [],
   "source": []
  }
 ],
 "metadata": {
  "kernelspec": {
   "display_name": "Python 3 (ipykernel)",
   "language": "python",
   "name": "python3"
  },
  "language_info": {
   "codemirror_mode": {
    "name": "ipython",
    "version": 3
   },
   "file_extension": ".py",
   "mimetype": "text/x-python",
   "name": "python",
   "nbconvert_exporter": "python",
   "pygments_lexer": "ipython3",
   "version": "3.9.6"
  }
 },
 "nbformat": 4,
 "nbformat_minor": 5
}
